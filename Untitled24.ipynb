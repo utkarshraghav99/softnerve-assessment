{
  "nbformat": 4,
  "nbformat_minor": 0,
  "metadata": {
    "colab": {
      "provenance": [],
      "authorship_tag": "ABX9TyO/tJtbWXbTdobDIoRp4vaV",
      "include_colab_link": true
    },
    "kernelspec": {
      "name": "python3",
      "display_name": "Python 3"
    },
    "language_info": {
      "name": "python"
    }
  },
  "cells": [
    {
      "cell_type": "markdown",
      "metadata": {
        "id": "view-in-github",
        "colab_type": "text"
      },
      "source": [
        "<a href=\"https://colab.research.google.com/github/utkarshraghav99/softnerve-assessment/blob/main/Untitled24.ipynb\" target=\"_parent\"><img src=\"https://colab.research.google.com/assets/colab-badge.svg\" alt=\"Open In Colab\"/></a>"
      ]
    },
    {
      "cell_type": "code",
      "execution_count": null,
      "metadata": {
        "id": "6HLBAHyyUhBA"
      },
      "outputs": [],
      "source": [
        "import requests\n",
        "from fastapi import FastAPI\n",
        "API_KEY = \"YOUR_API_KEY\"\n",
        "app = FastAPI()\n",
        "def get_top_books(genre):\n",
        "    response = requests.get(f\"https://api.example.com/top_books?genre={genre}&key={API_KEY}\")\n",
        "    return response.json()\n",
        "\n",
        "def filter_books_by_llm(books, user_preferences):\n",
        "    return books[:10]\n",
        "\n",
        "\n",
        "def recommend_single_book(top_books):\n",
        "    return top_books[0]\n",
        "\n",
        "\n",
        "@app.get(\"/top_books/{genre}\")\n",
        "async def get_top_books_api(genre: str):\n",
        "    top_100_books = get_top_books(genre)\n",
        "\n",
        "    if user_preferences:\n",
        "        top_10_books = filter_books_by_llm(top_100_books, user_preferences)\n",
        "\n",
        "    return top_10_books\n",
        "\n",
        "\n",
        "@app.get(\"/recommend/{genre}\")\n",
        "async def recommend_book_api(genre: str):\n",
        "    top_100_books = get_top_books(genre)\n",
        "\n",
        "    if user_preferences:\n",
        "        top_10_books = filter_books_by_llm(top_100_books, user_preferences)\n",
        "\n",
        "    recommended_book = recommend_single_book(top_10_books)\n",
        "    return recommended_book\n",
        "if __name__ == \"__main__\":\n",
        "    import uvicorn\n",
        "    uvicorn.run(\"main:app\", host=\"0.0.0.0\", port=8000)\n"
      ]
    }
  ]
}